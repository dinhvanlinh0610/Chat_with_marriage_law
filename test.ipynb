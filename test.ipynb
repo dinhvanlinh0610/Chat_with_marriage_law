{
 "cells": [
  {
   "cell_type": "code",
   "execution_count": 1,
   "metadata": {},
   "outputs": [
    {
     "name": "stderr",
     "output_type": "stream",
     "text": [
      "c:\\Users\\Admin\\Downloads\\Code\\Chat\\Chat_with_marriage_law\\.venv\\Lib\\site-packages\\tqdm\\auto.py:21: TqdmWarning: IProgress not found. Please update jupyter and ipywidgets. See https://ipywidgets.readthedocs.io/en/stable/user_install.html\n",
      "  from .autonotebook import tqdm as notebook_tqdm\n",
      "INFO:sentence_transformers.SentenceTransformer:Use pytorch device_name: cpu\n",
      "INFO:sentence_transformers.SentenceTransformer:Load pretrained SentenceTransformer: keepitreal/vietnamese-sbert\n",
      "INFO:llms.local_llms:Đang tải mô hình 'llama3.2'...\n"
     ]
    },
    {
     "name": "stdout",
     "output_type": "stream",
     "text": [
      "Run ollama container\n",
      "Please ensure Docker Desktop is installed and running on Windows.\n",
      "Container 'ollama' is already running.\n",
      "select model\n",
      "Run model\n",
      "Tải mô hình 'llama3.2' thành công!\n"
     ]
    }
   ],
   "source": [
    "from vector_store import ChromaDB\n",
    "from embedding import HuggingFaceEmbedding\n",
    "from utils import hyde_search, vector_search, init_llm\n",
    "embedding_model = HuggingFaceEmbedding(\"keepitreal/vietnamese-sbert\")\n",
    "api_key = input(\"Enter your API key: \")\n",
    "llm = init_llm(model_name = \"llama3-8b-8192\", api_key = api_key, type_llm = \"offline\")\n",
    "# vector_store = ChromaDB(collection_name=\"test\", embedding_model=embedding_model.embedding, persist_directory=\"./db/chroma_db\")\n",
    "\n",
    "# results = hyde_search(llm=llm,embedding_model=embedding_model.embedding,chroma=vector_store, query=\"covid\", k=5)\n",
    "# print(results)\n"
   ]
  },
  {
   "cell_type": "code",
   "execution_count": 2,
   "metadata": {},
   "outputs": [
    {
     "name": "stderr",
     "output_type": "stream",
     "text": [
      "INFO:chromadb.telemetry.product.posthog:Anonymized telemetry enabled. See                     https://docs.trychroma.com/telemetry for more information.\n",
      "WARNING:chromadb.segment.impl.vector.local_persistent_hnsw:Number of requested results 50 is greater than number of elements in index 49, updating n_results = 49\n"
     ]
    },
    {
     "name": "stdout",
     "output_type": "stream",
     "text": [
      "[Document(metadata={'source': 'law.pdf'}, page_content='Điều 55. Thuận tình ly hôn  \\nTrong trường hợp vợ chồng cùng yêu cầu ly hôn, nếu xét thấy hai bên thật sự \\ntự  nguyện  ly  hôn  và  đã  thỏa  thuận  về  việc  chia  tài  sản,  việc  trông  nom,  nuôi \\ndưỡng, chăm sóc, giáo dục con trên cơ sở bảo đảm quyền lợi chính đáng của vợ và \\ncon thì Tòa án công nhận thuận tình ly hôn; nếu không thỏa thuận được hoặc có \\nthỏa thuận nhưng không bảo đảm quyền lợi chính đáng của vợ và con thì Tòa án \\ngiải quyết việc ly hôn. Điều 56. Ly hôn theo yêu cầu của một bên \\n1. Khi vợ hoặc chồng yêu cầu ly hôn mà hòa giải tại Tòa án không thành thì \\nTòa án giải quyết cho ly hôn nếu có căn cứ về việc vợ, chồng có hành vi bạo lực \\ngia đình hoặc vi phạm nghiêm trọng quyền, nghĩa vụ của vợ, chồng làm cho hôn \\nnhân lâm vào tình trạng trầm trọng, đời sống chung không thể kéo dài, mục đích \\ncủa hôn nhân không đạt được. 2. Trong trường hợp vợ hoặc chồng của người bị Tòa án tuyên bố mất tích yêu \\n\\ncầu ly hôn thì Tòa án giải quyết cho ly hôn. 3. Trong trường hợp có yêu cầu ly hôn theo quy định tại khoản 2 Điều 51 của \\nLuật này thì Tòa án giải quyết cho ly hôn nếu có căn cứ về việc chồng, vợ có hành \\nvi  bạo  lực  gia  đình  làm  ảnh  hưởng  nghiêm  trọng  đến  tính  mạng,  sức  khỏe,  tinh \\nthần của người kia. 32 \\n\\nCÔNG BÁO/Số 681 + 682/Ngày 16-7-2014 \\n\\nĐiều 57. Thời điểm chấm dứt hôn nhân và trách nhiệm gửi bản án, quyết \\n\\nđịnh ly hôn \\n\\n1. Quan hệ hôn nhân chấm dứt kể từ ngày bản án, quyết định ly hôn của Tòa \\n\\nán có hiệu lực pháp luật. 2. Tòa án đã giải quyết ly hôn phải gửi bản án, quyết định ly hôn đã có hiệu \\nlực pháp luật cho cơ quan đã thực hiện việc đăng ký kết hôn để ghi vào sổ hộ tịch; \\nhai bên ly hôn; cá nhân, cơ quan, tổ chức khác theo quy định của Bộ luật tố tụng \\ndân sự và các luật khác có liên quan. Điều 58. Quyền, nghĩa vụ của cha mẹ và con sau khi ly hôn \\nViệc trông nom, chăm sóc, nuôi dưỡng, giáo dục con sau khi ly hôn được áp \\n\\ndụng theo quy định tại các Điều 81, 82, 83 và 84 của Luật này. Điều 59.'), Document(metadata={'source': 'law.pdf'}, page_content='Điều kiện kết hôn \\n\\n1. Nam, nữ kết hôn với nhau phải tuân theo các điều kiện sau đây: \\na) Nam từ đủ 20 tuổi trở lên, nữ từ đủ 18 tuổi trở lên; \\nb) Việc kết hôn do nam và nữ tự nguyện quyết định; \\nc) Không bị mất năng lực hành vi dân sự; \\nd) Việc kết hôn không thuộc một trong các trường hợp cấm kết hôn theo quy \\n\\nđịnh tại các Điểm a, b, c và d khoản 2 Điều 5 của Luật này. 2. Nhà nước không thừa nhận hôn nhân giữa những người cùng giới tính. Điều 9.'), Document(metadata={'source': 'law.pdf'}, page_content='Điều 5. Bảo vệ chế độ hôn nhân và gia đình \\n1. Quan  hệ  hôn  nhân  và  gia đình  được  xác  lập,  thực  hiện  theo  quy  định  của \\n\\nLuật này được tôn trọng và được pháp luật bảo vệ.'), Document(metadata={'source': 'law.pdf'}, page_content='Những người cùng dòng máu về trực hệ là những người có quan hệ huyết \\n\\nthống, trong đó, người này sinh ra người kia kế tiếp nhau. 18. Những  người  có  họ  trong  phạm  vi  ba  đời  là  những  người  cùng  một  gốc \\nsinh ra gồm cha mẹ là đời thứ nhất; anh, chị, em cùng cha mẹ, cùng cha khác mẹ, \\ncùng mẹ khác cha là đời thứ hai; anh, chị, em con chú, con bác, con cô, con cậu, \\ncon dì là đời thứ ba. 19. Người thân thích là người có quan hệ hôn nhân, nuôi dưỡng, người có cùng \\n\\ndòng máu về trực hệ và người có họ trong phạm vi ba đời. 20. Nhu cầu thiết yếu là nhu cầu sinh hoạt thông thường về ăn, mặc, ở, học tập, \\nkhám  bệnh,  chữa  bệnh  và  nhu  cầu  sinh  hoạt  thông  thường  khác  không  thể  thiếu \\ncho cuộc sống của mỗi người, mỗi gia đình. 21. Sinh con bằng kỹ thuật hỗ trợ sinh sản là việc sinh con bằng kỹ thuật thụ \\n\\ntinh nhân tạo hoặc thụ tinh trong ống nghiệm. 22. Mang thai hộ vì mục đích nhân đạo là việc một người phụ nữ tự nguyện, \\nkhông  vì  mục  đích  thương  mại  giúp  mang  thai  cho  cặp  vợ  chồng  mà  người  vợ \\nkhông  thể  mang  thai  và  sinh  con  ngay  cả  khi  áp  dụng  kỹ  thuật  hỗ  trợ  sinh  sản, \\nbằng việc lấy noãn của người vợ và tinh trùng của người chồng để thụ tinh trong \\nống  nghiệm,  sau  đó  cấy  vào  tử  cung  của  người  phụ  nữ  tự  nguyện  mang  thai  để \\nngười này mang thai và sinh con. 23. Mang thai hộ vì mục đích thương mại là việc một người phụ nữ mang thai \\ncho người khác bằng việc áp dụng kỹ thuật hỗ trợ sinh sản để được hưởng lợi về \\nkinh tế hoặc lợi ích khác. 24. Cấp dưỡng là việc một người có nghĩa vụ đóng góp tiền hoặc tài sản khác \\nđể đáp ứng nhu cầu thiết yếu của người không sống chung với mình mà có quan \\nhệ hôn nhân, huyết thống hoặc nuôi dưỡng trong trường hợp người đó là người \\nchưa thành niên, người đã thành niên mà không có khả năng lao động và không \\ncó tài sản để tự nuôi mình hoặc người gặp khó khăn, túng thiếu theo quy định của \\nLuật này. 25. Quan hệ hôn nhân và gia đình có yếu tố nước ngoài là quan hệ hôn nhân và \\ngia đình mà ít nhất một bên tham gia là người nước ngoài, người Việt Nam định cư \\nở nước ngoài; quan hệ hôn nhân và gia đình giữa các bên tham gia là công dân Việt Nam \\nnhưng căn cứ để xác lập, thay đổi, chấm dứt quan hệ đó theo pháp luật nước ngoài, \\nphát sinh tại nước ngoài hoặc tài sản liên quan đến quan hệ đó ở nước ngoài. CÔNG BÁO/Số 681 + 682/Ngày 16-7-2014 \\n\\n19 \\n\\nĐiều 4. Trách nhiệm của Nhà nước và xã hội đối với hôn nhân và gia đình \\n1. Nhà nước có chính sách, biện pháp bảo hộ hôn nhân và gia đình, tạo điều \\nkiện  để  nam,  nữ  xác  lập  hôn  nhân  tự  nguyện,  tiến  bộ,  một  vợ  một  chồng,  vợ \\nchồng bình đẳng; xây dựng gia đình ấm no, tiến bộ, hạnh phúc và thực hiện đầy \\nđủ chức năng của mình; tăng cường tuyên truyền, phổ biến, giáo dục pháp luật về \\nhôn nhân và gia đình; vận động nhân dân xóa bỏ phong tục, tập quán lạc hậu về \\nhôn nhân và gia đình, phát huy truyền thống, phong tục, tập quán tốt đẹp thể hiện \\nbản sắc của mỗi dân tộc. 2. Chính phủ thống nhất quản lý nhà nước về hôn nhân và gia đình. Các bộ, \\ncơ quan ngang bộ  thực  hiện quản lý nhà nước về hôn nhân và  gia  đình theo sự \\nphân  công  của  Chính  phủ. Ủy  ban  nhân  dân  các  cấp  và  các  cơ  quan  khác  thực \\nhiện quản lý nhà nước về hôn nhân và gia đình theo quy định của pháp luật.'), Document(metadata={'source': 'law.pdf'}, page_content='Chính phủ quy định chi tiết Điều này.')]\n"
     ]
    }
   ],
   "source": [
    "vector_store = ChromaDB(collection_name=\"new\", embedding_model=embedding_model.embedding, persist_directory=\"./db/chroma_db\")\n",
    "\n",
    "# results = hyde_search(llm=llm,embedding_model=embedding_model.embedding,chroma=vector_store, query=\"covid\", k=5)\n",
    "chroma = vector_store.create_retriever()\n",
    "\n",
    "results = chroma.invoke(\"Ly hôn đơn phương là gì\")\n",
    "print(results)"
   ]
  },
  {
   "cell_type": "code",
   "execution_count": 2,
   "metadata": {},
   "outputs": [
    {
     "name": "stdout",
     "output_type": "stream",
     "text": [
      "{'content': 'Ly hôn đơn phương là một loại ly hôn trong pháp luật Việt Nam, theo đó một bên trong cặp đôi yêu cầu ly hôn mà không cần sự đồng ý của bên kia.\\n\\nTheo quy định tại Điều 24 Luật Hôn nhân và Gia đình năm 2015, \"Sự ly hôn có thể được thực hiện theo hai hình thức sau:\\n\\n- Ly hôn bằng sự đồng ý của cả hai bên;\\n\\n- Ly hôn đơn phương\".\\n\\nTrong trường hợp ly hôn đơn phương, một bên trong cặp đôi yêu cầu ly hôn mà không cần sự đồng ý của bên kia. Điều này có nghĩa là một bên chỉ muốn chấm dứt mối quan hệ và không muốn tiếp tục sống với người kia.\\n\\nTuy nhiên, theo quy định tại Điều 24, Luật Hôn nhân và Gia đình năm 2015, \"Sự ly hôn đơn phương không được thực hiện nếu:\\n\\n- Bên yêu cầu ly hôn có hành vi phạm tội hoặc vi phạm quy định của pháp luật về hôn nhân, gia đình;\\n\\n- Bên yêu cầu ly hôn đã ký kết hợp đồng nuôi con chung với bên kia mà chưa hết hạn\";\\n\\nVậy, để được cấp giấy chứng nhận ly hôn đơn phương, một bên phải đáp ứng các điều kiện sau:\\n\\n- Có căn cứ hành chính để yêu cầu ly hôn;\\n- Không có hành vi phạm tội hoặc vi phạm quy định của pháp luật về hôn nhân, gia đình;\\n- Không còn ký kết hợp đồng nuôi con chung với bên kia mà chưa hết hạn;\\n\\nNếu đáp ứng được các điều kiện trên, một bên trong cặp đôi có thể yêu cầu ly hôn đơn phương và nhận được giấy chứng nhận ly hôn.', 'model': 'llama3.2', 'created_at': '2024-12-05T07:44:30.922555856Z', 'total_duration': 90227791149, 'load_duration': 54405790, 'prompt_eval_count': 31, 'prompt_eval_duration': 164000000, 'eval_count': 336, 'eval_duration': 90007000000, 'done': True}\n"
     ]
    }
   ],
   "source": [
    "answer = llm.chat(\"Ly hôn đơn phương là gì\")\n",
    "print(answer)"
   ]
  }
 ],
 "metadata": {
  "kernelspec": {
   "display_name": ".venv",
   "language": "python",
   "name": "python3"
  },
  "language_info": {
   "codemirror_mode": {
    "name": "ipython",
    "version": 3
   },
   "file_extension": ".py",
   "mimetype": "text/x-python",
   "name": "python",
   "nbconvert_exporter": "python",
   "pygments_lexer": "ipython3",
   "version": "3.11.5"
  }
 },
 "nbformat": 4,
 "nbformat_minor": 2
}
